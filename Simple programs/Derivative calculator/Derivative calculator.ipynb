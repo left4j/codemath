{
 "cells": [
  {
   "cell_type": "markdown",
   "metadata": {
    "hideCode": false,
    "hideOutput": false,
    "hidePrompt": true
   },
   "source": [
    "# Derivative calculator"
   ]
  },
  {
   "cell_type": "markdown",
   "metadata": {
    "hideCode": true,
    "hidePrompt": true
   },
   "source": [
    "#### Start by running the next cell with Shift+Enter\n",
    "For multiplication, use *\n",
    "<br>\n",
    "For exponentiation, use **\n",
    "<br>\n",
    "To raise e to something, use exp()\n",
    "<br>\n",
    "For Nth roots, use **(1/n)\n",
    "<br>\n",
    "Other variables are all the same as in normal math, i.e. sin, tan, etc.\n",
    "<br>\n",
    "To add other variables, edit the code below. Refer to sympy documentation for that.\n",
    "<br>\n",
    "You can also import custom stuff, such as tetration or transfinite ordinals from their respective libraries.\n",
    "<br>\n",
    "##### !Don't forget to use brackets!"
   ]
  },
  {
   "cell_type": "code",
   "execution_count": null,
   "metadata": {
    "hideCode": true,
    "hideOutput": false,
    "hidePrompt": true
   },
   "outputs": [],
   "source": [
    "from sympy import diff, symbols\n",
    "from IPython.display import display\n",
    "import math\n",
    "x, y, z = symbols('x y z')\n",
    "f = input('\\n'\"Type your function\"'\\n')\n",
    "k = (input('\\n' \"Derive with respect to which variable? \"))\n",
    "n = int(input('\\n'\"How many times to derive? \"))\n",
    "print('\\n' \"The result is: \")\n",
    "display(diff(f, k, n))"
   ]
  },
  {
   "cell_type": "code",
   "execution_count": null,
   "metadata": {},
   "outputs": [],
   "source": []
  }
 ],
 "metadata": {
  "kernelspec": {
   "display_name": "Python 3",
   "language": "python",
   "name": "python3"
  },
  "language_info": {
   "codemirror_mode": {
    "name": "ipython",
    "version": 3
   },
   "file_extension": ".py",
   "mimetype": "text/x-python",
   "name": "python",
   "nbconvert_exporter": "python",
   "pygments_lexer": "ipython3",
   "version": "3.8.2"
  }
 },
 "nbformat": 4,
 "nbformat_minor": 4
}
