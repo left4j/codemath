{
 "cells": [
  {
   "cell_type": "markdown",
   "metadata": {
    "hidePrompt": true
   },
   "source": [
    "# TODO\n",
    "\n",
    " - Add optimization, checking for saddle points, Lagrange rule\n",
    "\n",
    " - Add plotting\n",
    " \n",
    " - Add tangent lines, Taylor polynomial\n",
    " \n",
    " - Add limits\n",
    "\n",
    " - Add lambdas, shadow price\n",
    "\n",
    " - Add check of FoC, SoC, SdC\n",
    "\n",
    " - Add chain rule, implicit and homogenous functions\n",
    " \n",
    " - Add domain\n",
    " \n",
    " - Add directional derivative\n",
    " \n",
    " - Add diagonalization, characteristic polynomial and quadratic form\n",
    " \n",
    " - See if can clean up code \n",
    " \n",
    " - Write up clear documentation"
   ]
  },
  {
   "cell_type": "markdown",
   "metadata": {},
   "source": [
    "<p style=\"font-size:22px; text-align:center\"><a href=\"https://github.com/left4j/codemath/blob/master/Programs/MAP/Documentation.md\">Refer to documentation if need be</a></p>"
   ]
  },
  {
   "cell_type": "code",
   "execution_count": 11,
   "metadata": {
    "hideCode": false,
    "hidePrompt": false,
    "scrolled": true
   },
   "outputs": [
    {
     "name": "stdout",
     "output_type": "stream",
     "text": [
      "What do you want to calculate?  i\n",
      "\n",
      "Type your function: exp(x)*tan(psi)\n",
      "With respect to which variable? x\n",
      "Definite or not? Answer y/n: y\n",
      "Lower limit: 0\n",
      "Upper limit: 69\n"
     ]
    },
    {
     "data": {
      "text/markdown": [
       "\n",
       "$$\\int_{0}^{69} e^{x} \\tan{\\left(\\psi \\right)} \\: dx = - \\tan{\\left(\\psi \\right)} + e^{69} \\tan{\\left(\\psi \\right)}$$"
      ],
      "text/plain": [
       "<IPython.core.display.Markdown object>"
      ]
     },
     "metadata": {},
     "output_type": "display_data"
    }
   ],
   "source": [
    "from sympy import *\n",
    "from sympy.abc import x, y, z\n",
    "import string\n",
    "import symengine\n",
    "def mprint(string):\n",
    "    display(Markdown(string))\n",
    "from IPython.display import display, Math, Latex, Markdown\n",
    "import math\n",
    "x, y, z, p, alpha, b, delta, epsilon, theta, l, pi, sigma, phi, psi, omega = symbols('x y z p alpha beta delta epsilon theta lambda pi sigma phi psi omega')\n",
    "list = [x, y, z, p, alpha, b, delta, epsilon, theta, l, pi, sigma, phi, psi, omega]\n",
    "dict = {'x':x, 'y':y, 'z':z, 'p':p, 'alpha':alpha, 'beta':beta, 'delta':delta, 'epsilon':epsilon, 'theta':theta, 'l':l, 'pi':pi, 'sigma':sigma, 'phi':phi, 'psi':psi, 'omega':omega}\n",
    "action = str.casefold(input(\"What do you want to calculate?  \"))\n",
    "f = sympify(input('\\n'f\"Type your function: \"))\n",
    "if action in (\"gradient\", \"grad\", \"g\"):\n",
    "    mprint(r'$$\\vec{\\nabla}f\\mspace{3mu}(x, y) = ' + f'({latex(diff(f,x))}, {latex(diff(f,y))})$$')\n",
    "elif action in (\"integrate\", \"int\", \"i\"):\n",
    "    var = str.casefold(input(\"With respect to which variable? \"))\n",
    "    defin = str.casefold(input(\"Definite or not? Answer y/n: \"))\n",
    "    if defin == \"y\":\n",
    "        llim = sympify(input(\"Lower limit: \"))\n",
    "        ulim = sympify(input(\"Upper limit: \"))\n",
    "        l_llim = str({llim})\n",
    "        l_ulim = str({ulim})\n",
    "        inf_check = str(ulim)\n",
    "        if inf_check == \"oo\":\n",
    "            inf = latex(sympify(inf_check))\n",
    "            mprint('\\n'f'$$\\int_{latex(l_llim)}^{inf} {latex(sympify(f))} \\: d{latex(sympify(dict[var]))} = {latex(integrate(f, (var, llim, ulim)))}$$')\n",
    "        else:\n",
    "            mprint('\\n'f'$$\\int_{latex(l_llim)}^{latex(l_ulim)} {latex((f))} \\: d{latex(sympify(dict[var]))} = {latex(integrate(f, (var, llim, ulim)))}$$')\n",
    "    elif defin == \"n\":\n",
    "        mprint(f'$$\\int {latex(f)} \\: d{sympify(dict[var])} = {latex(integrate(ff, sympify(dict[var])))}\\:+C$$')\n",
    "elif action in (\"jacobian\", \"j\"):\n",
    "    nf = int(input(\"How many functions? \"))\n",
    "    if nf == 2:\n",
    "        func = symengine.sympify([f, input(\"Second function: \")])\n",
    "        vars = symengine.symbols('x y')\n",
    "    elif nf == 3:\n",
    "        func = symengine.sympify([f, input(\"Second function: \"), input(\"Third: \")])\n",
    "        vars = symengine.symbols('x y z')\n",
    "    elif nf == 4:\n",
    "        func = symengine.sympify([f, input(\"Second function: \"), input(\"Third: \"), input(\"Fourth: \")])\n",
    "        vars = symengine.symbols('x y z p')\n",
    "    J = symengine.zeros(len(func), nf)\n",
    "    for i, funci in enumerate(func):\n",
    "        for j, s in enumerate(vars):\n",
    "            J[i,j] = symengine.diff(funci, s)\n",
    "            JM = Matrix(J)\n",
    "    mprint(f'$$J_f\\: {vars} = {latex(JM)}$$')\n",
    "elif action in (\"hessian\", \"hess\", \"h\"):\n",
    "    nf = int(input(\"How many variables does the function have? \"))\n",
    "    if nf == 2:\n",
    "        mprint(f'$$H_f\\:(x, y) = {latex(hessian(f,(x,y)))}$$')\n",
    "    elif nf == 3:\n",
    "        mprint(f'$$H_f\\:(x, y, z) = {latex(hessian(f,(x,y,z)))}$$')  \n",
    "    elif nf == 4:\n",
    "        mprint(f'$$H_f\\:(x, y, z, p) = {latex(hessian(f,(x,y,z,p)))}$$')\n",
    "elif action in (\"derivative\", \"differentiate\", \"diff\", \"d\"):\n",
    "    k = sympify(input('\\n' \"Derive with respect to which variable? \"))\n",
    "    kk = str(k)\n",
    "    n = int(input('\\n'\"How many times to derive? \"))\n",
    "    if f.has(k):\n",
    "        f_mod = f.replace(k, sympify(dict[kk]))\n",
    "        ff = sympify(diff(f_mod, dict[kk], n))\n",
    "        if ff.has(k):\n",
    "            f_fin = ff.replace(k, sympify(dict[kk]))\n",
    "            mprint(r'$$\\frac{\\partial f}{\\partial {'+latex(sympify(dict[kk]))+'}} = ' + f'{latex(f_fin)}$$')\n",
    "        else:\n",
    "            mprint(r'$$\\frac{\\partial f}{\\partial {'+latex(sympify(dict[kk]))+'}} = ' + f'{latex(ff)}$$')"
   ]
  },
  {
   "cell_type": "code",
   "execution_count": null,
   "metadata": {},
   "outputs": [],
   "source": []
  },
  {
   "cell_type": "code",
   "execution_count": 6,
   "metadata": {},
   "outputs": [
    {
     "name": "stdout",
     "output_type": "stream",
     "text": [
      "\n",
      "Type your function: 4*x**2+2*y**2+2*x*y+(l*(4*x+6*y))\n",
      "\n",
      "Derive with respect to which variable? l\n",
      "\n",
      "How many times to derive? 1\n"
     ]
    },
    {
     "data": {
      "text/markdown": [
       "$$\\frac{\\partial f}{\\partial {\\lambda}} = 4 x + 6 y$$"
      ],
      "text/plain": [
       "<IPython.core.display.Markdown object>"
      ]
     },
     "metadata": {},
     "output_type": "display_data"
    }
   ],
   "source": [
    "def mprint(string):\n",
    "    display(Markdown(string))\n",
    "from IPython.display import display, Math, Latex, Markdown\n",
    "from sympy import *\n",
    "x, y, z, p, l = symbols('x y z p lambda')\n",
    "dict = {'x':x, 'y':y, 'z':z, 'p':p, 'l':l}\n",
    "f = sympify(input('\\n'\"Type your function: \"))\n",
    "k = input('\\n' \"Derive with respect to which variable? \")\n",
    "n = int(input('\\n'\"How many times to derive? \"))\n",
    "if k in dict:\n",
    "    mprint(r'$$\\frac{\\partial f}{\\partial {'+latex(sympify(dict[k]))+'}} = ' + f'{latex(diff(f, k, n))}$$')  \n",
    "else:\n",
    "    print(\"FUCK\")"
   ]
  },
  {
   "cell_type": "code",
   "execution_count": 3,
   "metadata": {},
   "outputs": [
    {
     "name": "stdout",
     "output_type": "stream",
     "text": [
      "\n",
      "Type your function: l**2\n"
     ]
    },
    {
     "data": {
      "text/latex": [
       "$\\displaystyle l^{2}$"
      ],
      "text/plain": [
       "l**2"
      ]
     },
     "metadata": {},
     "output_type": "display_data"
    },
    {
     "name": "stdout",
     "output_type": "stream",
     "text": [
      "variable: l\n"
     ]
    },
    {
     "data": {
      "text/latex": [
       "$\\displaystyle \\lambda$"
      ],
      "text/plain": [
       "lambda"
      ]
     },
     "metadata": {},
     "output_type": "display_data"
    }
   ],
   "source": [
    "def mprint(string):\n",
    "    display(Markdown(string))\n",
    "from IPython.display import display, Math, Latex, Markdown\n",
    "from sympy import *\n",
    "x, y, z, p, alpha, beta, delta, epsilon, theta, l, pi, sigma, phi, psi, omega = symbols('x y z p alpha beta delta epsilon theta lambda pi sigma phi psi omega')\n",
    "dict = {'x':x, 'y':y, 'z':z, 'p':p, 'alpha':alpha, 'beta':beta, 'delta':delta, 'epsilon':epsilon, 'theta':theta, 'l':l, 'pi':pi, 'sigma':sigma, 'phi':phi, 'psi':psi, 'omega':omega}\n",
    "f = sympify(input('\\n'\"Type your function: \"))\n",
    "display(f)\n",
    "k = sympify(input(\"variable: \"))\n",
    "kk = str(k)\n",
    "if any(f.has(x) for x in list)\n",
    "    display(dict[kk])"
   ]
  },
  {
   "cell_type": "code",
   "execution_count": null,
   "metadata": {},
   "outputs": [],
   "source": []
  },
  {
   "cell_type": "code",
   "execution_count": null,
   "metadata": {},
   "outputs": [],
   "source": [
    "\n"
   ]
  }
 ],
 "metadata": {
  "kernelspec": {
   "display_name": "Python 3",
   "language": "python",
   "name": "python3"
  },
  "language_info": {
   "codemirror_mode": {
    "name": "ipython",
    "version": 3
   },
   "file_extension": ".py",
   "mimetype": "text/x-python",
   "name": "python",
   "nbconvert_exporter": "python",
   "pygments_lexer": "ipython3",
   "version": "3.8.2"
  }
 },
 "nbformat": 4,
 "nbformat_minor": 4
}
